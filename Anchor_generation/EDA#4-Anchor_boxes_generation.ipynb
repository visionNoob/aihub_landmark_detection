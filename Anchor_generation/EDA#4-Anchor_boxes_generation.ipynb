{
 "cells": [
  {
   "cell_type": "code",
   "execution_count": 1,
   "metadata": {},
   "outputs": [],
   "source": [
    "import os \n",
    "import os.path as osp \n",
    "import sys \n",
    "sys.path.insert(0, os.pardir)\n",
    "\n",
    "import seaborn as sns\n",
    "import pandas as pd \n",
    "import numpy as np \n",
    "import matplotlib.pyplot as plt "
   ]
  },
  {
   "cell_type": "code",
   "execution_count": 2,
   "metadata": {},
   "outputs": [],
   "source": [
    "# function from Tensorflow Object Detection API to resize image\n",
    "def _compute_new_static_size(width, height, min_dimension, max_dimension):\n",
    "    orig_height = height\n",
    "    orig_width = width\n",
    "    orig_min_dim = min(orig_height, orig_width)\n",
    "  \n",
    "    # Calculates the larger of the possible sizes\n",
    "    large_scale_factor = min_dimension / float(orig_min_dim)\n",
    "      # Scaling orig_(height|width) by large_scale_factor will make the smaller\n",
    "      # dimension equal to min_dimension, save for floating point rounding errors.\n",
    "      # For reasonably-sized images, taking the nearest integer will reliably\n",
    "      # eliminate this error.\n",
    "    large_height = int(round(orig_height * large_scale_factor))\n",
    "    large_width = int(round(orig_width * large_scale_factor))\n",
    "    large_size = [large_height, large_width]\n",
    "    if max_dimension:\n",
    "    # Calculates the smaller of the possible sizes, use that if the larger\n",
    "    # is too big.\n",
    "        orig_max_dim = max(orig_height, orig_width)\n",
    "        small_scale_factor = max_dimension / float(orig_max_dim)\n",
    "    # Scaling orig_(height|width) by small_scale_factor will make the larger\n",
    "    # dimension equal to max_dimension, save for floating point rounding\n",
    "    # errors. For reasonably-sized images, taking the nearest integer will\n",
    "    # reliably eliminate this error.\n",
    "        small_height = int(round(orig_height * small_scale_factor))\n",
    "        small_width = int(round(orig_width * small_scale_factor))\n",
    "        small_size = [small_height, small_width]\n",
    "        new_size = large_size\n",
    "    if max(large_size) > max_dimension:\n",
    "        new_size = small_size\n",
    "    else:\n",
    "        new_size = large_size\n",
    "    \n",
    "    return new_size[1], new_size[0]"
   ]
  },
  {
   "cell_type": "code",
   "execution_count": 3,
   "metadata": {},
   "outputs": [],
   "source": [
    "min_dimension = 600\n",
    "max_dimension = 1024"
   ]
  },
  {
   "cell_type": "markdown",
   "metadata": {},
   "source": [
    "### Read csv"
   ]
  },
  {
   "cell_type": "code",
   "execution_count": 4,
   "metadata": {},
   "outputs": [
    {
     "name": "stderr",
     "output_type": "stream",
     "text": [
      "/home/ubuntu/anaconda3/envs/pytorch_p36/lib/python3.6/site-packages/numpy/lib/arraysetops.py:522: FutureWarning: elementwise comparison failed; returning scalar instead, but in the future will perform elementwise comparison\n",
      "  mask |= (ar1 == a)\n"
     ]
    }
   ],
   "source": [
    "# Read the .csv \n",
    "data = pd.read_csv('Anchor.csv', index_col=[0])"
   ]
  },
  {
   "cell_type": "code",
   "execution_count": 5,
   "metadata": {},
   "outputs": [
    {
     "data": {
      "text/html": [
       "<div>\n",
       "<style scoped>\n",
       "    .dataframe tbody tr th:only-of-type {\n",
       "        vertical-align: middle;\n",
       "    }\n",
       "\n",
       "    .dataframe tbody tr th {\n",
       "        vertical-align: top;\n",
       "    }\n",
       "\n",
       "    .dataframe thead th {\n",
       "        text-align: right;\n",
       "    }\n",
       "</style>\n",
       "<table border=\"1\" class=\"dataframe\">\n",
       "  <thead>\n",
       "    <tr style=\"text-align: right;\">\n",
       "      <th></th>\n",
       "      <th>name</th>\n",
       "      <th>width</th>\n",
       "      <th>height</th>\n",
       "      <th>class</th>\n",
       "      <th>xmin</th>\n",
       "      <th>ymin</th>\n",
       "      <th>xmax</th>\n",
       "      <th>ymax</th>\n",
       "    </tr>\n",
       "  </thead>\n",
       "  <tbody>\n",
       "    <tr>\n",
       "      <th>259497</th>\n",
       "      <td>HF010669_0103_1096</td>\n",
       "      <td>640</td>\n",
       "      <td>480</td>\n",
       "      <td>법당</td>\n",
       "      <td>3</td>\n",
       "      <td>0</td>\n",
       "      <td>640</td>\n",
       "      <td>352</td>\n",
       "    </tr>\n",
       "    <tr>\n",
       "      <th>1016176</th>\n",
       "      <td>HF019224_0102_1538</td>\n",
       "      <td>640</td>\n",
       "      <td>480</td>\n",
       "      <td>가옥</td>\n",
       "      <td>72</td>\n",
       "      <td>60</td>\n",
       "      <td>629</td>\n",
       "      <td>304</td>\n",
       "    </tr>\n",
       "    <tr>\n",
       "      <th>673984</th>\n",
       "      <td>HF010837_0103_0838</td>\n",
       "      <td>640</td>\n",
       "      <td>480</td>\n",
       "      <td>비석</td>\n",
       "      <td>214</td>\n",
       "      <td>204</td>\n",
       "      <td>275</td>\n",
       "      <td>296</td>\n",
       "    </tr>\n",
       "    <tr>\n",
       "      <th>811497</th>\n",
       "      <td>HF019118_0103_0711</td>\n",
       "      <td>640</td>\n",
       "      <td>480</td>\n",
       "      <td>탑</td>\n",
       "      <td>208</td>\n",
       "      <td>48</td>\n",
       "      <td>383</td>\n",
       "      <td>265</td>\n",
       "    </tr>\n",
       "    <tr>\n",
       "      <th>62498</th>\n",
       "      <td>HF010552_0201_0484</td>\n",
       "      <td>640</td>\n",
       "      <td>480</td>\n",
       "      <td>비석</td>\n",
       "      <td>239</td>\n",
       "      <td>94</td>\n",
       "      <td>432</td>\n",
       "      <td>445</td>\n",
       "    </tr>\n",
       "  </tbody>\n",
       "</table>\n",
       "</div>"
      ],
      "text/plain": [
       "                       name  width  height class  xmin  ymin  xmax  ymax\n",
       "259497   HF010669_0103_1096    640     480    법당     3     0   640   352\n",
       "1016176  HF019224_0102_1538    640     480    가옥    72    60   629   304\n",
       "673984   HF010837_0103_0838    640     480    비석   214   204   275   296\n",
       "811497   HF019118_0103_0711    640     480     탑   208    48   383   265\n",
       "62498    HF010552_0201_0484    640     480    비석   239    94   432   445"
      ]
     },
     "execution_count": 5,
     "metadata": {},
     "output_type": "execute_result"
    }
   ],
   "source": [
    "data.sample(5)"
   ]
  },
  {
   "cell_type": "code",
   "execution_count": 6,
   "metadata": {},
   "outputs": [
    {
     "data": {
      "text/html": [
       "<div>\n",
       "<style scoped>\n",
       "    .dataframe tbody tr th:only-of-type {\n",
       "        vertical-align: middle;\n",
       "    }\n",
       "\n",
       "    .dataframe tbody tr th {\n",
       "        vertical-align: top;\n",
       "    }\n",
       "\n",
       "    .dataframe thead th {\n",
       "        text-align: right;\n",
       "    }\n",
       "</style>\n",
       "<table border=\"1\" class=\"dataframe\">\n",
       "  <thead>\n",
       "    <tr style=\"text-align: right;\">\n",
       "      <th></th>\n",
       "      <th>width</th>\n",
       "      <th>height</th>\n",
       "      <th>xmin</th>\n",
       "      <th>ymin</th>\n",
       "      <th>xmax</th>\n",
       "      <th>ymax</th>\n",
       "    </tr>\n",
       "  </thead>\n",
       "  <tbody>\n",
       "    <tr>\n",
       "      <th>count</th>\n",
       "      <td>1240492.0</td>\n",
       "      <td>1240492.0</td>\n",
       "      <td>1.240492e+06</td>\n",
       "      <td>1.240492e+06</td>\n",
       "      <td>1.240492e+06</td>\n",
       "      <td>1.240492e+06</td>\n",
       "    </tr>\n",
       "    <tr>\n",
       "      <th>mean</th>\n",
       "      <td>640.0</td>\n",
       "      <td>480.0</td>\n",
       "      <td>1.234385e+02</td>\n",
       "      <td>1.082140e+02</td>\n",
       "      <td>5.133030e+02</td>\n",
       "      <td>3.494357e+02</td>\n",
       "    </tr>\n",
       "    <tr>\n",
       "      <th>std</th>\n",
       "      <td>0.0</td>\n",
       "      <td>0.0</td>\n",
       "      <td>1.118099e+02</td>\n",
       "      <td>8.037052e+01</td>\n",
       "      <td>1.130370e+02</td>\n",
       "      <td>8.434506e+01</td>\n",
       "    </tr>\n",
       "    <tr>\n",
       "      <th>min</th>\n",
       "      <td>640.0</td>\n",
       "      <td>480.0</td>\n",
       "      <td>0.000000e+00</td>\n",
       "      <td>0.000000e+00</td>\n",
       "      <td>0.000000e+00</td>\n",
       "      <td>0.000000e+00</td>\n",
       "    </tr>\n",
       "    <tr>\n",
       "      <th>25%</th>\n",
       "      <td>640.0</td>\n",
       "      <td>480.0</td>\n",
       "      <td>0.000000e+00</td>\n",
       "      <td>3.100000e+01</td>\n",
       "      <td>4.230000e+02</td>\n",
       "      <td>2.850000e+02</td>\n",
       "    </tr>\n",
       "    <tr>\n",
       "      <th>50%</th>\n",
       "      <td>640.0</td>\n",
       "      <td>480.0</td>\n",
       "      <td>1.150000e+02</td>\n",
       "      <td>1.100000e+02</td>\n",
       "      <td>5.210000e+02</td>\n",
       "      <td>3.370000e+02</td>\n",
       "    </tr>\n",
       "    <tr>\n",
       "      <th>75%</th>\n",
       "      <td>640.0</td>\n",
       "      <td>480.0</td>\n",
       "      <td>2.130000e+02</td>\n",
       "      <td>1.720000e+02</td>\n",
       "      <td>6.400000e+02</td>\n",
       "      <td>4.190000e+02</td>\n",
       "    </tr>\n",
       "    <tr>\n",
       "      <th>max</th>\n",
       "      <td>640.0</td>\n",
       "      <td>480.0</td>\n",
       "      <td>6.400000e+02</td>\n",
       "      <td>5.160000e+02</td>\n",
       "      <td>6.400000e+02</td>\n",
       "      <td>6.650000e+02</td>\n",
       "    </tr>\n",
       "  </tbody>\n",
       "</table>\n",
       "</div>"
      ],
      "text/plain": [
       "           width     height          xmin          ymin          xmax  \\\n",
       "count  1240492.0  1240492.0  1.240492e+06  1.240492e+06  1.240492e+06   \n",
       "mean       640.0      480.0  1.234385e+02  1.082140e+02  5.133030e+02   \n",
       "std          0.0        0.0  1.118099e+02  8.037052e+01  1.130370e+02   \n",
       "min        640.0      480.0  0.000000e+00  0.000000e+00  0.000000e+00   \n",
       "25%        640.0      480.0  0.000000e+00  3.100000e+01  4.230000e+02   \n",
       "50%        640.0      480.0  1.150000e+02  1.100000e+02  5.210000e+02   \n",
       "75%        640.0      480.0  2.130000e+02  1.720000e+02  6.400000e+02   \n",
       "max        640.0      480.0  6.400000e+02  5.160000e+02  6.400000e+02   \n",
       "\n",
       "               ymax  \n",
       "count  1.240492e+06  \n",
       "mean   3.494357e+02  \n",
       "std    8.434506e+01  \n",
       "min    0.000000e+00  \n",
       "25%    2.850000e+02  \n",
       "50%    3.370000e+02  \n",
       "75%    4.190000e+02  \n",
       "max    6.650000e+02  "
      ]
     },
     "execution_count": 6,
     "metadata": {},
     "output_type": "execute_result"
    }
   ],
   "source": [
    "# Initial Data\n",
    "data.describe()"
   ]
  },
  {
   "cell_type": "code",
   "execution_count": 7,
   "metadata": {},
   "outputs": [],
   "source": [
    "#utility function to get width & height\n",
    "def change_to_wh (data):\n",
    "    data['w'] = data['xmax'] - data['xmin'] + 1\n",
    "    data['h'] = data['ymax'] - data['ymin'] + 1\n",
    "    return data"
   ]
  },
  {
   "cell_type": "code",
   "execution_count": 8,
   "metadata": {},
   "outputs": [],
   "source": [
    "data = change_to_wh(data)\n",
    "data['new_w'], data['new_h'] = np.vectorize(_compute_new_static_size)(data['width'], \n",
    "                                                                      data['height'], min_dimension, max_dimension)\n",
    "data['b_w'] = data['new_w']*data['w']/data['width']\n",
    "data['b_h'] = data['new_h']*data['h']/data['height']\n",
    "data['b_ar'] = data['b_w']/data['b_h']"
   ]
  },
  {
   "cell_type": "code",
   "execution_count": 9,
   "metadata": {},
   "outputs": [
    {
     "name": "stderr",
     "output_type": "stream",
     "text": [
      "/home/ubuntu/anaconda3/envs/pytorch_p36/lib/python3.6/site-packages/scipy/stats/stats.py:1713: FutureWarning: Using a non-tuple sequence for multidimensional indexing is deprecated; use `arr[tuple(seq)]` instead of `arr[seq]`. In the future this will be interpreted as an array index, `arr[np.array(seq)]`, which will result either in an error or a different result.\n",
      "  return np.add.reduce(sorted[indexer] * weights, axis=axis) / sumval\n",
      "/home/ubuntu/anaconda3/envs/pytorch_p36/lib/python3.6/site-packages/matplotlib/axes/_axes.py:6521: MatplotlibDeprecationWarning: \n",
      "The 'normed' kwarg was deprecated in Matplotlib 2.1 and will be removed in 3.1. Use 'density' instead.\n",
      "  alternative=\"'density'\", removal=\"3.1\")\n",
      "/home/ubuntu/anaconda3/envs/pytorch_p36/lib/python3.6/site-packages/matplotlib/axes/_axes.py:6521: MatplotlibDeprecationWarning: \n",
      "The 'normed' kwarg was deprecated in Matplotlib 2.1 and will be removed in 3.1. Use 'density' instead.\n",
      "  alternative=\"'density'\", removal=\"3.1\")\n",
      "/home/ubuntu/anaconda3/envs/pytorch_p36/lib/python3.6/site-packages/matplotlib/axes/_axes.py:6521: MatplotlibDeprecationWarning: \n",
      "The 'normed' kwarg was deprecated in Matplotlib 2.1 and will be removed in 3.1. Use 'density' instead.\n",
      "  alternative=\"'density'\", removal=\"3.1\")\n",
      "/home/ubuntu/anaconda3/envs/pytorch_p36/lib/python3.6/site-packages/matplotlib/axes/_axes.py:6521: MatplotlibDeprecationWarning: \n",
      "The 'normed' kwarg was deprecated in Matplotlib 2.1 and will be removed in 3.1. Use 'density' instead.\n",
      "  alternative=\"'density'\", removal=\"3.1\")\n"
     ]
    },
    {
     "data": {
      "text/plain": [
       "<seaborn.axisgrid.JointGrid at 0x7fbe9abae9e8>"
      ]
     },
     "execution_count": 9,
     "metadata": {},
     "output_type": "execute_result"
    },
    {
     "data": {
      "image/png": "[encoded data removed]",
      "text/plain": [
       "<Figure size 432x432 with 3 Axes>"
      ]
     },
     "metadata": {},
     "output_type": "display_data"
    },
    {
     "data": {
      "image/png": "[encoded data removed]",
      "text/plain": [
       "<Figure size 432x432 with 3 Axes>"
      ]
     },
     "metadata": {},
     "output_type": "display_data"
    }
   ],
   "source": [
    "#Joint Plot of b_w and b_h\n",
    "sns.jointplot(data=data, x=\"b_w\", y=\"b_h\",  kind='scatter', s=0.5)\n",
    "sns.jointplot(data=data, x=\"b_w\", y=\"b_h\",  kind='hex')"
   ]
  },
  {
   "cell_type": "markdown",
   "metadata": {},
   "source": [
    "### Calculate the base box size!"
   ]
  },
  {
   "cell_type": "code",
   "execution_count": 10,
   "metadata": {},
   "outputs": [
    {
     "data": {
      "image/png": "[encoded data removed]",
      "text/plain": [
       "<Figure size 432x288 with 1 Axes>"
      ]
     },
     "metadata": {},
     "output_type": "display_data"
    }
   ],
   "source": [
    "def count_base_size(width, height, input_array=[64,96,128,196,212,256,512]):\n",
    "    result = {}\n",
    "    for ele in input_array:\n",
    "        result[str(ele)] = 0\n",
    "    result['rest'] = 0\n",
    "    \n",
    "    import itertools\n",
    "    for w,h in zip(width,height):\n",
    "        done = False\n",
    "        for inp in input_array:\n",
    "            if w <= inp and h <= inp:\n",
    "                result[str(inp)] += 1\n",
    "                done = True\n",
    "        if done == False:\n",
    "            result['rest'] += 1\n",
    "            \n",
    "    return result\n",
    "    \n",
    "D = count_base_size(data[\"b_w\"].tolist(), data[\"b_h\"].tolist())\n",
    "import collections\n",
    "OD = collections.OrderedDict(sorted(D.items()))\n",
    "plt.bar(range(len(OD)), OD.values(), align='center')  # python 2.x\n",
    "plt.xticks(range(len(OD)), OD.keys())  # in python 2.x\n",
    "\n",
    "plt.show()"
   ]
  },
  {
   "cell_type": "code",
   "execution_count": 11,
   "metadata": {},
   "outputs": [
    {
     "name": "stdout",
     "output_type": "stream",
     "text": [
      "OrderedDict([('128', 51280), ('196', 108554), ('212', 124874), ('256', 175263), ('512', 608215), ('64', 6600), ('96', 28517), ('rest', 632277)])\n"
     ]
    }
   ],
   "source": [
    "print(OD)"
   ]
  },
  {
   "cell_type": "code",
   "execution_count": 12,
   "metadata": {},
   "outputs": [
    {
     "data": {
      "text/html": [
       "<div>\n",
       "<style scoped>\n",
       "    .dataframe tbody tr th:only-of-type {\n",
       "        vertical-align: middle;\n",
       "    }\n",
       "\n",
       "    .dataframe tbody tr th {\n",
       "        vertical-align: top;\n",
       "    }\n",
       "\n",
       "    .dataframe thead th {\n",
       "        text-align: right;\n",
       "    }\n",
       "</style>\n",
       "<table border=\"1\" class=\"dataframe\">\n",
       "  <thead>\n",
       "    <tr style=\"text-align: right;\">\n",
       "      <th></th>\n",
       "      <th>width</th>\n",
       "      <th>height</th>\n",
       "      <th>xmin</th>\n",
       "      <th>ymin</th>\n",
       "      <th>xmax</th>\n",
       "      <th>ymax</th>\n",
       "      <th>w</th>\n",
       "      <th>h</th>\n",
       "      <th>new_w</th>\n",
       "      <th>new_h</th>\n",
       "      <th>b_w</th>\n",
       "      <th>b_h</th>\n",
       "      <th>b_ar</th>\n",
       "      <th>b_area_scale</th>\n",
       "    </tr>\n",
       "  </thead>\n",
       "  <tbody>\n",
       "    <tr>\n",
       "      <th>count</th>\n",
       "      <td>1240492.0</td>\n",
       "      <td>1240492.0</td>\n",
       "      <td>1.240492e+06</td>\n",
       "      <td>1.240492e+06</td>\n",
       "      <td>1.240492e+06</td>\n",
       "      <td>1.240492e+06</td>\n",
       "      <td>1.240492e+06</td>\n",
       "      <td>1.240492e+06</td>\n",
       "      <td>1240492.0</td>\n",
       "      <td>1240492.0</td>\n",
       "      <td>1.240492e+06</td>\n",
       "      <td>1.240492e+06</td>\n",
       "      <td>1.240492e+06</td>\n",
       "      <td>1.240492e+06</td>\n",
       "    </tr>\n",
       "    <tr>\n",
       "      <th>mean</th>\n",
       "      <td>640.0</td>\n",
       "      <td>480.0</td>\n",
       "      <td>1.234385e+02</td>\n",
       "      <td>1.082140e+02</td>\n",
       "      <td>5.133030e+02</td>\n",
       "      <td>3.494357e+02</td>\n",
       "      <td>3.908645e+02</td>\n",
       "      <td>2.422217e+02</td>\n",
       "      <td>800.0</td>\n",
       "      <td>600.0</td>\n",
       "      <td>4.885807e+02</td>\n",
       "      <td>3.027771e+02</td>\n",
       "      <td>1.945816e+00</td>\n",
       "      <td>1.156786e+00</td>\n",
       "    </tr>\n",
       "    <tr>\n",
       "      <th>std</th>\n",
       "      <td>0.0</td>\n",
       "      <td>0.0</td>\n",
       "      <td>1.118099e+02</td>\n",
       "      <td>8.037052e+01</td>\n",
       "      <td>1.130370e+02</td>\n",
       "      <td>8.434506e+01</td>\n",
       "      <td>1.905672e+02</td>\n",
       "      <td>1.226866e+02</td>\n",
       "      <td>0.0</td>\n",
       "      <td>0.0</td>\n",
       "      <td>2.382090e+02</td>\n",
       "      <td>1.533582e+02</td>\n",
       "      <td>1.604054e+00</td>\n",
       "      <td>5.171485e-01</td>\n",
       "    </tr>\n",
       "    <tr>\n",
       "      <th>min</th>\n",
       "      <td>640.0</td>\n",
       "      <td>480.0</td>\n",
       "      <td>0.000000e+00</td>\n",
       "      <td>0.000000e+00</td>\n",
       "      <td>0.000000e+00</td>\n",
       "      <td>0.000000e+00</td>\n",
       "      <td>1.000000e+00</td>\n",
       "      <td>1.000000e+00</td>\n",
       "      <td>800.0</td>\n",
       "      <td>600.0</td>\n",
       "      <td>1.250000e+00</td>\n",
       "      <td>1.250000e+00</td>\n",
       "      <td>2.173913e-03</td>\n",
       "      <td>3.906250e-03</td>\n",
       "    </tr>\n",
       "    <tr>\n",
       "      <th>25%</th>\n",
       "      <td>640.0</td>\n",
       "      <td>480.0</td>\n",
       "      <td>0.000000e+00</td>\n",
       "      <td>3.100000e+01</td>\n",
       "      <td>4.230000e+02</td>\n",
       "      <td>2.850000e+02</td>\n",
       "      <td>2.230000e+02</td>\n",
       "      <td>1.420000e+02</td>\n",
       "      <td>800.0</td>\n",
       "      <td>600.0</td>\n",
       "      <td>2.787500e+02</td>\n",
       "      <td>1.775000e+02</td>\n",
       "      <td>1.100775e+00</td>\n",
       "      <td>7.551904e-01</td>\n",
       "    </tr>\n",
       "    <tr>\n",
       "      <th>50%</th>\n",
       "      <td>640.0</td>\n",
       "      <td>480.0</td>\n",
       "      <td>1.150000e+02</td>\n",
       "      <td>1.100000e+02</td>\n",
       "      <td>5.210000e+02</td>\n",
       "      <td>3.370000e+02</td>\n",
       "      <td>3.990000e+02</td>\n",
       "      <td>2.350000e+02</td>\n",
       "      <td>800.0</td>\n",
       "      <td>600.0</td>\n",
       "      <td>4.987500e+02</td>\n",
       "      <td>2.937500e+02</td>\n",
       "      <td>1.720588e+00</td>\n",
       "      <td>1.147135e+00</td>\n",
       "    </tr>\n",
       "    <tr>\n",
       "      <th>75%</th>\n",
       "      <td>640.0</td>\n",
       "      <td>480.0</td>\n",
       "      <td>2.130000e+02</td>\n",
       "      <td>1.720000e+02</td>\n",
       "      <td>6.400000e+02</td>\n",
       "      <td>4.190000e+02</td>\n",
       "      <td>5.750000e+02</td>\n",
       "      <td>3.290000e+02</td>\n",
       "      <td>800.0</td>\n",
       "      <td>600.0</td>\n",
       "      <td>7.187500e+02</td>\n",
       "      <td>4.112500e+02</td>\n",
       "      <td>2.455939e+00</td>\n",
       "      <td>1.552193e+00</td>\n",
       "    </tr>\n",
       "    <tr>\n",
       "      <th>max</th>\n",
       "      <td>640.0</td>\n",
       "      <td>480.0</td>\n",
       "      <td>6.400000e+02</td>\n",
       "      <td>5.160000e+02</td>\n",
       "      <td>6.400000e+02</td>\n",
       "      <td>6.650000e+02</td>\n",
       "      <td>6.410000e+02</td>\n",
       "      <td>6.400000e+02</td>\n",
       "      <td>800.0</td>\n",
       "      <td>600.0</td>\n",
       "      <td>8.012500e+02</td>\n",
       "      <td>8.000000e+02</td>\n",
       "      <td>6.410000e+02</td>\n",
       "      <td>2.501952e+00</td>\n",
       "    </tr>\n",
       "  </tbody>\n",
       "</table>\n",
       "</div>"
      ],
      "text/plain": [
       "           width     height          xmin          ymin          xmax  \\\n",
       "count  1240492.0  1240492.0  1.240492e+06  1.240492e+06  1.240492e+06   \n",
       "mean       640.0      480.0  1.234385e+02  1.082140e+02  5.133030e+02   \n",
       "std          0.0        0.0  1.118099e+02  8.037052e+01  1.130370e+02   \n",
       "min        640.0      480.0  0.000000e+00  0.000000e+00  0.000000e+00   \n",
       "25%        640.0      480.0  0.000000e+00  3.100000e+01  4.230000e+02   \n",
       "50%        640.0      480.0  1.150000e+02  1.100000e+02  5.210000e+02   \n",
       "75%        640.0      480.0  2.130000e+02  1.720000e+02  6.400000e+02   \n",
       "max        640.0      480.0  6.400000e+02  5.160000e+02  6.400000e+02   \n",
       "\n",
       "               ymax             w             h      new_w      new_h  \\\n",
       "count  1.240492e+06  1.240492e+06  1.240492e+06  1240492.0  1240492.0   \n",
       "mean   3.494357e+02  3.908645e+02  2.422217e+02      800.0      600.0   \n",
       "std    8.434506e+01  1.905672e+02  1.226866e+02        0.0        0.0   \n",
       "min    0.000000e+00  1.000000e+00  1.000000e+00      800.0      600.0   \n",
       "25%    2.850000e+02  2.230000e+02  1.420000e+02      800.0      600.0   \n",
       "50%    3.370000e+02  3.990000e+02  2.350000e+02      800.0      600.0   \n",
       "75%    4.190000e+02  5.750000e+02  3.290000e+02      800.0      600.0   \n",
       "max    6.650000e+02  6.410000e+02  6.400000e+02      800.0      600.0   \n",
       "\n",
       "                b_w           b_h          b_ar  b_area_scale  \n",
       "count  1.240492e+06  1.240492e+06  1.240492e+06  1.240492e+06  \n",
       "mean   4.885807e+02  3.027771e+02  1.945816e+00  1.156786e+00  \n",
       "std    2.382090e+02  1.533582e+02  1.604054e+00  5.171485e-01  \n",
       "min    1.250000e+00  1.250000e+00  2.173913e-03  3.906250e-03  \n",
       "25%    2.787500e+02  1.775000e+02  1.100775e+00  7.551904e-01  \n",
       "50%    4.987500e+02  2.937500e+02  1.720588e+00  1.147135e+00  \n",
       "75%    7.187500e+02  4.112500e+02  2.455939e+00  1.552193e+00  \n",
       "max    8.012500e+02  8.000000e+02  6.410000e+02  2.501952e+00  "
      ]
     },
     "execution_count": 12,
     "metadata": {},
     "output_type": "execute_result"
    }
   ],
   "source": [
    "# Area Scale\n",
    "base_box = 256*256\n",
    "data['b_area_scale'] = (data['w']*data['h']/(base_box)).apply(np.sqrt)\n",
    "data.describe()"
   ]
  },
  {
   "cell_type": "markdown",
   "metadata": {},
   "source": [
    "***\n",
    "## Clusterring using both width & height "
   ]
  },
  {
   "cell_type": "code",
   "execution_count": 13,
   "metadata": {},
   "outputs": [
    {
     "name": "stdout",
     "output_type": "stream",
     "text": [
      "Index(['b_w', 'b_h'], dtype='object')\n"
     ]
    },
    {
     "name": "stderr",
     "output_type": "stream",
     "text": [
      "/home/ubuntu/anaconda3/envs/pytorch_p36/lib/python3.6/site-packages/ipykernel/__main__.py:2: FutureWarning: Method .as_matrix will be removed in a future version. Use .values instead.\n",
      "  from ipykernel import kernelapp as app\n"
     ]
    },
    {
     "data": {
      "image/png": "[encoded data removed]",
      "text/plain": [
       "<Figure size 432x288 with 1 Axes>"
      ]
     },
     "metadata": {},
     "output_type": "display_data"
    }
   ],
   "source": [
    "print(data.columns[12:14])\n",
    "X = data.as_matrix(columns=data.columns[12:14])\n",
    "\n",
    "from sklearn.cluster import KMeans\n",
    "K = KMeans(5, random_state=0)\n",
    "labels = K.fit(X)\n",
    "plt.scatter(X[:, 0], X[:, 1], c=labels.labels_,\n",
    "            s=50, cmap='viridis');"
   ]
  },
  {
   "cell_type": "code",
   "execution_count": 14,
   "metadata": {},
   "outputs": [
    {
     "name": "stdout",
     "output_type": "stream",
     "text": [
      "Aspect Ratios: \n",
      "[1.27147272 2.61426722 0.69906    1.40863368 2.11080628]\n",
      "Scales: \n",
      "[0.61906169 1.7830958  1.38153448 2.37292033 1.26984176]\n"
     ]
    }
   ],
   "source": [
    "out = labels.cluster_centers_\n",
    "\n",
    "ar = out[:,0]/out[:,1]\n",
    "scale = out[:,1]*np.sqrt(ar)/256\n",
    "\n",
    "print(\"Aspect Ratios: \")\n",
    "print(ar)\n",
    "\n",
    "print(\"Scales: \")\n",
    "print(scale)"
   ]
  },
  {
   "cell_type": "markdown",
   "metadata": {},
   "source": [
    "***\n",
    "## IoU based clusterring"
   ]
  },
  {
   "cell_type": "code",
   "execution_count": 15,
   "metadata": {},
   "outputs": [],
   "source": [
    "#utility functions for K-means\n",
    "import numpy as np\n",
    "\n",
    "\n",
    "def iou(box, clusters):\n",
    "    \"\"\"\n",
    "    Calculates the Intersection over Union (IoU) between a box and k clusters.\n",
    "    :param box: tuple or array, shifted to the origin (i. e. width and height)\n",
    "    :param clusters: numpy array of shape (k, 2) where k is the number of clusters\n",
    "    :return: numpy array of shape (k, 0) where k is the number of clusters\n",
    "    \"\"\"\n",
    "    x = np.minimum(clusters[:, 0], box[0])\n",
    "    y = np.minimum(clusters[:, 1], box[1])\n",
    "    if np.count_nonzero(x == 0) > 0 or np.count_nonzero(y == 0) > 0:\n",
    "        raise ValueError(\"Box has no area\")\n",
    "\n",
    "    intersection = x * y\n",
    "    box_area = box[0] * box[1]\n",
    "    cluster_area = clusters[:, 0] * clusters[:, 1]\n",
    "\n",
    "    iou_ = intersection / (box_area + cluster_area - intersection)\n",
    "\n",
    "    return iou_\n",
    "\n",
    "\n",
    "def avg_iou(boxes, clusters):\n",
    "    \"\"\"\n",
    "    Calculates the average Intersection over Union (IoU) between a numpy array of boxes and k clusters.\n",
    "    :param boxes: numpy array of shape (r, 2), where r is the number of rows\n",
    "    :param clusters: numpy array of shape (k, 2) where k is the number of clusters\n",
    "    :return: average IoU as a single float\n",
    "    \"\"\"\n",
    "    return np.mean([np.max(iou(boxes[i], clusters)) for i in range(boxes.shape[0])])\n",
    "\n",
    "\n",
    "def translate_boxes(boxes):\n",
    "    \"\"\"\n",
    "    Translates all the boxes to the origin.\n",
    "    :param boxes: numpy array of shape (r, 4)\n",
    "    :return: numpy array of shape (r, 2)\n",
    "    \"\"\"\n",
    "    new_boxes = boxes.copy()\n",
    "    for row in range(new_boxes.shape[0]):\n",
    "        new_boxes[row][2] = np.abs(new_boxes[row][2] - new_boxes[row][0])\n",
    "        new_boxes[row][3] = np.abs(new_boxes[row][3] - new_boxes[row][1])\n",
    "    return np.delete(new_boxes, [0, 1], axis=1)\n",
    "\n",
    "\n",
    "def kmeans(boxes, k, dist=np.median):\n",
    "    \"\"\"\n",
    "    Calculates k-means clustering with the Intersection over Union (IoU) metric.\n",
    "    :param boxes: numpy array of shape (r, 2), where r is the number of rows\n",
    "    :param k: number of clusters\n",
    "    :param dist: distance function\n",
    "    :return: numpy array of shape (k, 2)\n",
    "    \"\"\"\n",
    "    rows = boxes.shape[0]\n",
    "\n",
    "    distances = np.empty((rows, k))\n",
    "    last_clusters = np.zeros((rows,))\n",
    "\n",
    "    np.random.seed()\n",
    "\n",
    "    # the Forgy method will fail if the whole array contains the same rows\n",
    "    clusters = boxes[np.random.choice(rows, k, replace=False)]\n",
    "\n",
    "    while True:\n",
    "        for row in range(rows):\n",
    "            distances[row] = 1 - iou(boxes[row], clusters)\n",
    "\n",
    "        nearest_clusters = np.argmin(distances, axis=1)\n",
    "\n",
    "        if (last_clusters == nearest_clusters).all():\n",
    "            break\n",
    "\n",
    "        for cluster in range(k):\n",
    "            clusters[cluster] = dist(boxes[nearest_clusters == cluster], axis=0)\n",
    "\n",
    "        last_clusters = nearest_clusters\n",
    "\n",
    "    return clusters"
   ]
  },
  {
   "cell_type": "code",
   "execution_count": 16,
   "metadata": {},
   "outputs": [
    {
     "name": "stdout",
     "output_type": "stream",
     "text": [
      "Index(['b_w', 'b_h'], dtype='object')\n"
     ]
    },
    {
     "name": "stderr",
     "output_type": "stream",
     "text": [
      "/home/ubuntu/anaconda3/envs/pytorch_p36/lib/python3.6/site-packages/ipykernel/__main__.py:2: FutureWarning: Method .as_matrix will be removed in a future version. Use .values instead.\n",
      "  from ipykernel import kernelapp as app\n"
     ]
    },
    {
     "name": "stdout",
     "output_type": "stream",
     "text": [
      "[[487.5  190.  ]\n",
      " [240.   358.75]\n",
      " [137.5   96.25]\n",
      " [738.75 410.  ]]\n"
     ]
    }
   ],
   "source": [
    "print(data.columns[12:14])\n",
    "X = data.as_matrix(columns=data.columns[12:14])\n",
    "\n",
    "# Cluster with 4 centers\n",
    "cl = kmeans(X, 4)\n",
    "print(cl)"
   ]
  },
  {
   "cell_type": "code",
   "execution_count": 17,
   "metadata": {},
   "outputs": [
    {
     "name": "stdout",
     "output_type": "stream",
     "text": [
      "[2.56578947 0.66898955 1.42857143 1.80182927]\n",
      "[1.18884202 1.14620318 0.44937794 2.14981312]\n"
     ]
    }
   ],
   "source": [
    "ar_iou = cl[:,0]/cl[:,1]\n",
    "\n",
    "print(ar_iou) # Anchor_IoU\n",
    "\n",
    "\n",
    "scale_iou = cl[:,1]*np.sqrt(ar_iou)/256\n",
    "\n",
    "print( scale_iou)"
   ]
  },
  {
   "cell_type": "code",
   "execution_count": null,
   "metadata": {},
   "outputs": [],
   "source": []
  }
 ],
 "metadata": {
  "kernelspec": {
   "display_name": "Environment (conda_pytorch_p36)",
   "language": "python",
   "name": "conda_pytorch_p36"
  },
  "language_info": {
   "codemirror_mode": {
    "name": "ipython",
    "version": 3
   },
   "file_extension": ".py",
   "mimetype": "text/x-python",
   "name": "python",
   "nbconvert_exporter": "python",
   "pygments_lexer": "ipython3",
   "version": "3.6.5"
  }
 },
 "nbformat": 4,
 "nbformat_minor": 2
}
